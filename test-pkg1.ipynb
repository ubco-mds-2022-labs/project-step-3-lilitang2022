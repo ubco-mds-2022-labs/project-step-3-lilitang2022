{
 "cells": [
  {
   "cell_type": "code",
   "execution_count": 2,
   "id": "ec9e763e-6f51-4aca-8e7c-be980b2ec2ee",
   "metadata": {},
   "outputs": [],
   "source": [
    "from pkg.pkg1 import information_input as ii\n",
    "from pkg.pkg1 import information_output as io\n",
    "from pkg.pkg1 import information_check as ic\n",
    "from pkg.pkg2 import Checking as ch\n",
    "from pkg.pkg2 import Course as co\n",
    "from pkg.pkg2 import Question as qu"
   ]
  },
  {
   "cell_type": "code",
   "execution_count": 3,
   "id": "d9013e12-ed52-4773-a565-059d84fa4f5b",
   "metadata": {},
   "outputs": [
    {
     "name": "stderr",
     "output_type": "stream",
     "text": [
      "test_student (__main__.Test_output) ... ok\n",
      "test_teacher (__main__.Test_output) ... ok\n",
      "\n",
      "----------------------------------------------------------------------\n",
      "Ran 2 tests in 0.002s\n",
      "\n",
      "OK\n"
     ]
    },
    {
     "name": "stdout",
     "output_type": "stream",
     "text": [
      "Set Up\n",
      "Tear Down\n",
      "Set Up\n",
      "Tear Down\n"
     ]
    },
    {
     "data": {
      "text/plain": [
       "<unittest.main.TestProgram at 0x7fda2073ea60>"
      ]
     },
     "execution_count": 3,
     "metadata": {},
     "output_type": "execute_result"
    }
   ],
   "source": [
    "import unittest\n",
    "\n",
    "class Test_output(unittest.TestCase):\n",
    "    \n",
    "    def setUp(self): \n",
    "        print('Set Up')\n",
    "        self.student_name= 'lily'\n",
    "        self.student_ID= 9130\n",
    "        self.student_major='MDS'\n",
    "        self.student_degree='Post'\n",
    "        self.teacher_name= 'John'\n",
    "        self.teacher_ID= 7788\n",
    "        self.teachr_research='maching learning'\n",
    "        self.teacher_length=5\n",
    "        \n",
    "    def tearDown(self):\n",
    "        print('Tear Down')\n",
    "        \n",
    "    def test_student(self):\n",
    "        p1= io.Student(self.student_name,self.student_ID,self.student_major,self.student_degree)\n",
    "        p2 = io.Group(self.student_name,self.student_ID)\n",
    "    \n",
    "        self.assertEqual(p1.major,self.student_major)\n",
    "        self.assertEqual(p1.degree,self.student_degree)\n",
    "        self.assertEqual(p2.name,self.student_name)\n",
    "        self.assertEqual(p2.ID,self.student_ID)\n",
    "    \n",
    "    def test_teacher(self):\n",
    "        p3= io.Teacher(self.teacher_name,self.teacher_ID,self.teachr_research,self.teacher_length)\n",
    "        p4 = io.Group(self.teacher_name,self.teacher_ID)\n",
    "    \n",
    "        self.assertEqual(p3.research,self.teachr_research)\n",
    "        self.assertEqual(p3.length,self.teacher_length)\n",
    "        self.assertEqual(p4.name,self.teacher_name)\n",
    "        self.assertEqual(p4.ID,self.teacher_ID)\n",
    "            \n",
    "        \n",
    "unittest.main(argv=[''], verbosity=2, exit=False)"
   ]
  },
  {
   "cell_type": "code",
   "execution_count": 7,
   "id": "cfec5248-819d-4a63-a068-dcdc46b8c898",
   "metadata": {},
   "outputs": [
    {
     "name": "stderr",
     "output_type": "stream",
     "text": [
      "test_check_IsNull (__main__.Test_check) ... ok\n",
      "test_check_inlist (__main__.Test_check) ... ok\n",
      "test_student (__main__.Test_output) ... ok\n",
      "test_teacher (__main__.Test_output) ... ok\n",
      "\n",
      "----------------------------------------------------------------------\n",
      "Ran 4 tests in 0.006s\n",
      "\n",
      "OK\n"
     ]
    },
    {
     "name": "stdout",
     "output_type": "stream",
     "text": [
      "1\n",
      "2\n",
      "1\n",
      "2\n",
      "Set Up\n",
      "Tear Down\n",
      "Set Up\n",
      "Tear Down\n"
     ]
    },
    {
     "data": {
      "text/plain": [
       "<unittest.main.TestProgram at 0x7fda207a7130>"
      ]
     },
     "execution_count": 7,
     "metadata": {},
     "output_type": "execute_result"
    }
   ],
   "source": [
    "class Test_check(unittest.TestCase):\n",
    "    \n",
    "    def setUp(self): \n",
    "        print('1')\n",
    "        self.right_name = 'lily'\n",
    "        self.right1_name = 'Justin'\n",
    "        self.right2_name = 'Travis'\n",
    "        self.wrong_name = ''\n",
    "        self.right_id = \"12345\"\n",
    "        self.right2_id = \"54321\"\n",
    "        self.wrong_id = \"36345\"\n",
    "        self.wrong2_id = \"\"\n",
    "                \n",
    "    def tearDown(self):\n",
    "        print('2')\n",
    "        \n",
    "    def test_check_inlist(self): #function\n",
    "        right = ic.Info_Check(self.right_name,self.right_id)\n",
    "        wrong = ic.Info_Check(self.wrong_name,self.wrong_id)\n",
    "        right2 = ic.Info_Check(self.right2_id,self.right_id)\n",
    "        wrong2 = ic.Info_Check(self.wrong_name,self.wrong_id)\n",
    "        \n",
    "        self.assertTrue(right.check_inlist())\n",
    "        self.assertFalse(wrong.check_inlist())\n",
    "        self.assertTrue(right2.check_inlist())\n",
    "        self.assertFalse(wrong2.check_inlist())\n",
    "              \n",
    "        \n",
    "    def test_check_IsNull(self):\n",
    "        right = ic.Info_Check(self.right_name,self.right_id)\n",
    "        wrong = ic.Info_Check(self.wrong_name,self.right_id)\n",
    "        right1 = ic.Info_Check(self.right1_name,self.right_id)\n",
    "        right2 = ic.Info_Check(self.right2_name,self.right_id)\n",
    "        \n",
    "        self.assertFalse(right.check_IsNull())\n",
    "        self.assertTrue(wrong.check_IsNull())\n",
    "        self.assertFalse(right1.check_IsNull())\n",
    "        self.assertFalse(right2.check_IsNull())\n",
    "        \n",
    "unittest.main(argv=[''], verbosity=2, exit=False)\n",
    "     "
   ]
  },
  {
   "cell_type": "code",
   "execution_count": 5,
   "id": "5a82e66d-7dd1-432f-93d3-0e5e2edcb132",
   "metadata": {},
   "outputs": [
    {
     "name": "stderr",
     "output_type": "stream",
     "text": [
      "....\n",
      "----------------------------------------------------------------------\n",
      "Ran 4 tests in 0.004s\n",
      "\n",
      "OK\n"
     ]
    },
    {
     "name": "stdout",
     "output_type": "stream",
     "text": [
      "Set Up\n",
      "Tear Down\n",
      "Set Up\n",
      "Tear Down\n",
      "Tear Down\n",
      "Tear Down\n",
      "<unittest.runner.TextTestResult run=4 errors=0 failures=0>\n"
     ]
    }
   ],
   "source": [
    "def my_suite():\n",
    "    suite = unittest.TestSuite()\n",
    "    result = unittest.TestResult()\n",
    "    suite.addTest(unittest.makeSuite(Test_output))\n",
    "    suite.addTest(unittest.makeSuite(Test_check))\n",
    "    runner = unittest.TextTestRunner()\n",
    "    print(runner.run(suite))\n",
    "my_suite()"
   ]
  },
  {
   "cell_type": "code",
   "execution_count": null,
   "id": "71012f5e-8e9e-4aaa-b39b-17e8a77d97c6",
   "metadata": {},
   "outputs": [],
   "source": []
  },
  {
   "cell_type": "code",
   "execution_count": null,
   "id": "146e20e9-9d64-4313-b015-295ce7794071",
   "metadata": {},
   "outputs": [],
   "source": []
  }
 ],
 "metadata": {
  "kernelspec": {
   "display_name": "Python 3 (ipykernel)",
   "language": "python",
   "name": "python3"
  },
  "language_info": {
   "codemirror_mode": {
    "name": "ipython",
    "version": 3
   },
   "file_extension": ".py",
   "mimetype": "text/x-python",
   "name": "python",
   "nbconvert_exporter": "python",
   "pygments_lexer": "ipython3",
   "version": "3.9.13"
  }
 },
 "nbformat": 4,
 "nbformat_minor": 5
}
